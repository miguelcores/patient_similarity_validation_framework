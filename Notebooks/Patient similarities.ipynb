{
 "cells": [
  {
   "cell_type": "code",
   "execution_count": 6,
   "metadata": {
    "ExecuteTime": {
     "end_time": "2020-09-10T08:47:33.251347Z",
     "start_time": "2020-09-10T08:47:33.243352Z"
    }
   },
   "outputs": [
    {
     "name": "stdout",
     "output_type": "stream",
     "text": [
      "ahi\n"
     ]
    }
   ],
   "source": [
    "exp_variable = '10'\n",
    "\n",
    "if exp_variable:\n",
    "    print('ahi')"
   ]
  },
  {
   "cell_type": "code",
   "execution_count": 2,
   "metadata": {
    "ExecuteTime": {
     "end_time": "2020-09-09T17:07:25.298556Z",
     "start_time": "2020-09-09T17:07:25.101552Z"
    }
   },
   "outputs": [
    {
     "name": "stdout",
     "output_type": "stream",
     "text": [
      "P(x<20): 0.150\n",
      "P(x<40): 0.635\n",
      "P(x<60): 1.000\n"
     ]
    },
    {
     "data": {
      "image/png": "[encoded data removed]",
      "text/plain": [
       "<Figure size 432x288 with 1 Axes>"
      ]
     },
     "metadata": {
      "needs_background": "light"
     },
     "output_type": "display_data"
    }
   ],
   "source": [
    "%matplotlib inline\n",
    "from matplotlib import pyplot\n",
    "from numpy.random import normal\n",
    "from numpy import hstack\n",
    "from statsmodels.distributions.empirical_distribution import ECDF\n",
    "# generate a sample\n",
    "sample1 = normal(loc=20, scale=5, size=300)\n",
    "sample2 = normal(loc=40, scale=5, size=700)\n",
    "sample = hstack((sample1, sample2))\n",
    "# fit a cdf\n",
    "ecdf = ECDF(sample)\n",
    "# get cumulative probability for values\n",
    "print('P(x<20): %.3f' % ecdf(20))\n",
    "print('P(x<40): %.3f' % ecdf(40))\n",
    "print('P(x<60): %.3f' % ecdf(60))\n",
    "# plot the cdf\n",
    "pyplot.plot(ecdf.x, ecdf.y)\n",
    "pyplot.show()"
   ]
  },
  {
   "cell_type": "code",
   "execution_count": 4,
   "metadata": {
    "ExecuteTime": {
     "end_time": "2020-09-09T17:17:59.507759Z",
     "start_time": "2020-09-09T17:17:59.492758Z"
    }
   },
   "outputs": [
    {
     "data": {
      "text/plain": [
       "array([23.1213967 , 17.21045862, 25.38756433, 17.68057473, 23.33961046,\n",
       "       16.41723589, 15.28337112, 22.87572813, 20.51776938, 13.8558211 ,\n",
       "       11.95272264, 14.78977433, 25.63312424, 11.70466124, 28.09103267,\n",
       "       19.32189298, 14.39284602, 17.18070927, 24.42076307, 20.90667341,\n",
       "       22.38328806, 19.08544521, 21.02090335, 25.67982309, 13.14373181,\n",
       "       20.70625502, 11.14860251, 14.38785174, 25.50369589, 17.16789087,\n",
       "       10.49909646, 29.95647919, 21.16622763, 26.99409844,  9.48512281,\n",
       "       22.80036312, 12.53893693, 14.17733036, 23.55106139, 10.80191858,\n",
       "       24.05979324, 27.04643571, 21.52806172, 19.71607842, 20.15366941,\n",
       "       24.9367146 , 26.275141  , 22.47128109, 19.39247778, 20.30105834,\n",
       "       25.47884286, 23.12192767, 23.34076898, 17.32892395, 24.44321003,\n",
       "       27.30856771, 18.84762688, 17.78090137, 28.92701356, 28.07854616,\n",
       "       12.85270995, 16.38288932, 16.84389189, 20.48148464, 36.83715104,\n",
       "       12.28178437, 24.20932987, 25.34161002, 12.8769724 , 18.06494688,\n",
       "       20.30736416, 11.89607963, 25.01289735, 22.64987176, 20.0356128 ,\n",
       "       25.04673628, 16.74609149, 22.6183012 , 17.57347289, 14.33654932,\n",
       "       11.00590875, 28.70956019, 17.03932054, 27.25567803, 27.43336997,\n",
       "       19.23540894, 28.74724293, 22.03840418, 27.30263927, 18.94042068,\n",
       "       29.19129657, 14.22708025, 20.77259785, 25.3970958 , 14.45865536,\n",
       "       26.0548426 , 14.14511368, 25.11327351, 11.51944349, 22.34251773,\n",
       "       15.51759195, 15.43765608, 16.50842473, 21.18717651, 20.84943387,\n",
       "       25.81069872, 20.99436159, 26.15939634, 17.72371191, 23.12376006,\n",
       "       24.99840096, 19.23384672, 19.71592466, 31.97707286, 18.73092866,\n",
       "       20.58947404, 27.53686685, 16.27992249, 19.86516228, 19.52644353,\n",
       "       20.76909545, 17.63871586, 21.39017525, 22.96657534, 18.8385402 ,\n",
       "        9.08503814, 22.24525352, 16.84157024, 13.95587456, 26.2827106 ,\n",
       "       15.80937134, 23.07763225, 24.0595346 , 20.60575856, 23.24106624,\n",
       "       18.83153837, 22.67450119, 19.35579536, 16.34355203, 24.57910102,\n",
       "       21.9020712 , 24.06460671, 19.03104613, 22.94565471, 22.32653247,\n",
       "       25.88362896, 19.83139169, 16.39926849, 18.88409937, 18.88884765,\n",
       "       16.58288432, 24.62365137, 20.04738978, 19.02178852, 30.1109024 ,\n",
       "       24.56381043, 20.66809689, 21.98163774, 17.35467637, 24.53671031,\n",
       "        4.81386366, 16.59642176, 21.64972339, 14.69979852, 18.77023446,\n",
       "       20.69504744, 15.9883204 , 11.52223273, 26.82026022, 18.12495828,\n",
       "       21.45152015, 17.28500583, 33.91244438, 20.09622373, 21.96648855,\n",
       "       15.19352061, 19.90136981, 23.69106379, 12.98871226, 18.40670614,\n",
       "       20.8288978 , 27.15453937, 16.5517333 , 18.2930101 , 13.52031194,\n",
       "       12.70242778, 17.29295147, 11.67847948, 19.30733516, 20.62673988,\n",
       "       24.86500647, 29.07646267, 26.25386303,  8.15989409, 20.17941086,\n",
       "       22.08936698, 25.21231464, 11.05574416, 17.47955361,  6.8246988 ,\n",
       "       36.33615344, 18.51280715, 15.87654468, 24.42156106, 25.87840867,\n",
       "       19.08050294, 27.75845201,  7.55372976, 13.03765617, 24.12571242,\n",
       "       15.30824884, 16.26494538, 15.38069296, 15.61612037, 20.15135444,\n",
       "       18.42879141, 22.32646451, 14.11413314, 12.00588787, 26.20840502,\n",
       "       23.37961753, 25.26205913, 23.23494159, 10.59448379, 18.50902869,\n",
       "       12.39279973, 31.27578751, 24.92296764, 17.79427023, 25.10964793,\n",
       "       24.17312473, 23.19761109, 15.91673851, 11.06150941, 22.38526386,\n",
       "       17.63795789, 17.99572764, 17.76084919, 20.41320573, 20.42653272,\n",
       "       18.15117896, 22.58699262, 22.05426572, 17.06587965, 18.71076123,\n",
       "       20.11432965, 20.878786  , 22.472278  , 14.87461744, 10.81417452,\n",
       "       19.70126744, 28.33757004, 13.14553386, 24.41477854, 17.25126127,\n",
       "       27.66576914, 19.3784732 , 15.09671458, 15.0886297 , 13.39730715,\n",
       "       19.80878981, 16.5576875 , 22.19081045, 18.87175003, 17.37997911,\n",
       "       20.03594088, 12.73061177, 20.81902091, 23.8989741 , 18.39750191,\n",
       "       17.25180142, 16.73440261, 23.21384462, 20.24649005, 15.8001436 ,\n",
       "       20.43762418, 22.58649858, 21.12765643, 18.91685855, 27.29889155,\n",
       "       23.98559685,  9.60018117, 25.28996045, 19.50739843, 25.65264775,\n",
       "       18.54010361, 14.14995701, 16.78668427, 24.48152926, 20.52134974,\n",
       "       24.69059606, 30.56767207, 17.74769313, 13.30454189, 15.69416233,\n",
       "       17.07302978, 16.29658333, 18.69318156, 25.25553126, 16.549211  ])"
      ]
     },
     "execution_count": 4,
     "metadata": {},
     "output_type": "execute_result"
    }
   ],
   "source": [
    "sample1"
   ]
  },
  {
   "cell_type": "code",
   "execution_count": null,
   "metadata": {},
   "outputs": [],
   "source": []
  },
  {
   "cell_type": "code",
   "execution_count": 233,
   "metadata": {
    "ExecuteTime": {
     "end_time": "2020-09-04T20:17:18.033962Z",
     "start_time": "2020-09-04T20:17:17.507926Z"
    }
   },
   "outputs": [
    {
     "data": {
      "text/html": [
       "<div>\n",
       "<style scoped>\n",
       "    .dataframe tbody tr th:only-of-type {\n",
       "        vertical-align: middle;\n",
       "    }\n",
       "\n",
       "    .dataframe tbody tr th {\n",
       "        vertical-align: top;\n",
       "    }\n",
       "\n",
       "    .dataframe thead th {\n",
       "        text-align: right;\n",
       "    }\n",
       "</style>\n",
       "<table border=\"1\" class=\"dataframe\">\n",
       "  <thead>\n",
       "    <tr style=\"text-align: right;\">\n",
       "      <th></th>\n",
       "      <th>#disease-db</th>\n",
       "      <th>disease-identifier</th>\n",
       "      <th>disease-name</th>\n",
       "      <th>negation</th>\n",
       "      <th>HPO-ID</th>\n",
       "      <th>reference</th>\n",
       "      <th>evidence-code</th>\n",
       "      <th>onset</th>\n",
       "      <th>frequencyHPO</th>\n",
       "      <th>modifier</th>\n",
       "      <th>sub-ontology</th>\n",
       "      <th>alt-names</th>\n",
       "      <th>curators</th>\n",
       "      <th>frequencyRaw</th>\n",
       "      <th>sex</th>\n",
       "    </tr>\n",
       "  </thead>\n",
       "  <tbody>\n",
       "    <tr>\n",
       "      <th>129876</th>\n",
       "      <td>ORPHA</td>\n",
       "      <td>2430</td>\n",
       "      <td>Congenital macroglossia</td>\n",
       "      <td>NaN</td>\n",
       "      <td>HP:0000158</td>\n",
       "      <td>ORPHA:2430</td>\n",
       "      <td>TAS</td>\n",
       "      <td>NaN</td>\n",
       "      <td>HP:0040281</td>\n",
       "      <td>NaN</td>\n",
       "      <td>P</td>\n",
       "      <td>NaN</td>\n",
       "      <td>orphadata</td>\n",
       "      <td>-</td>\n",
       "      <td>-</td>\n",
       "    </tr>\n",
       "    <tr>\n",
       "      <th>129877</th>\n",
       "      <td>ORPHA</td>\n",
       "      <td>2430</td>\n",
       "      <td>Congenital macroglossia</td>\n",
       "      <td>NaN</td>\n",
       "      <td>HP:0000821</td>\n",
       "      <td>ORPHA:2430</td>\n",
       "      <td>TAS</td>\n",
       "      <td>NaN</td>\n",
       "      <td>HP:0040284</td>\n",
       "      <td>NaN</td>\n",
       "      <td>P</td>\n",
       "      <td>NaN</td>\n",
       "      <td>orphadata</td>\n",
       "      <td>-</td>\n",
       "      <td>-</td>\n",
       "    </tr>\n",
       "    <tr>\n",
       "      <th>129878</th>\n",
       "      <td>ORPHA</td>\n",
       "      <td>2430</td>\n",
       "      <td>Congenital macroglossia</td>\n",
       "      <td>NaN</td>\n",
       "      <td>HP:0001067</td>\n",
       "      <td>ORPHA:2430</td>\n",
       "      <td>TAS</td>\n",
       "      <td>NaN</td>\n",
       "      <td>HP:0040284</td>\n",
       "      <td>NaN</td>\n",
       "      <td>P</td>\n",
       "      <td>NaN</td>\n",
       "      <td>orphadata</td>\n",
       "      <td>-</td>\n",
       "      <td>-</td>\n",
       "    </tr>\n",
       "    <tr>\n",
       "      <th>129879</th>\n",
       "      <td>ORPHA</td>\n",
       "      <td>2430</td>\n",
       "      <td>Congenital macroglossia</td>\n",
       "      <td>NaN</td>\n",
       "      <td>HP:0500030</td>\n",
       "      <td>ORPHA:2430</td>\n",
       "      <td>TAS</td>\n",
       "      <td>NaN</td>\n",
       "      <td>HP:0040284</td>\n",
       "      <td>NaN</td>\n",
       "      <td>P</td>\n",
       "      <td>NaN</td>\n",
       "      <td>orphadata</td>\n",
       "      <td>-</td>\n",
       "      <td>-</td>\n",
       "    </tr>\n",
       "  </tbody>\n",
       "</table>\n",
       "</div>"
      ],
      "text/plain": [
       "       #disease-db  disease-identifier             disease-name  negation  \\\n",
       "129876       ORPHA                2430  Congenital macroglossia       NaN   \n",
       "129877       ORPHA                2430  Congenital macroglossia       NaN   \n",
       "129878       ORPHA                2430  Congenital macroglossia       NaN   \n",
       "129879       ORPHA                2430  Congenital macroglossia       NaN   \n",
       "\n",
       "            HPO-ID   reference evidence-code onset frequencyHPO modifier  \\\n",
       "129876  HP:0000158  ORPHA:2430           TAS   NaN   HP:0040281      NaN   \n",
       "129877  HP:0000821  ORPHA:2430           TAS   NaN   HP:0040284      NaN   \n",
       "129878  HP:0001067  ORPHA:2430           TAS   NaN   HP:0040284      NaN   \n",
       "129879  HP:0500030  ORPHA:2430           TAS   NaN   HP:0040284      NaN   \n",
       "\n",
       "       sub-ontology alt-names   curators frequencyRaw sex  \n",
       "129876            P       NaN  orphadata            -   -  \n",
       "129877            P       NaN  orphadata            -   -  \n",
       "129878            P       NaN  orphadata            -   -  \n",
       "129879            P       NaN  orphadata            -   -  "
      ]
     },
     "execution_count": 233,
     "metadata": {},
     "output_type": "execute_result"
    }
   ],
   "source": [
    "import pandas as pd\n",
    "\n",
    "df = pd.read_csv('../_data/annotations/phenotype_annotation.tab', sep='\\t', low_memory=False)\n",
    "# len(df[df['#disease-db'] == 'ORPHA'])\n",
    "df[df['reference']=='ORPHA:2430']"
   ]
  },
  {
   "cell_type": "code",
   "execution_count": 232,
   "metadata": {
    "ExecuteTime": {
     "end_time": "2020-09-04T20:17:07.632197Z",
     "start_time": "2020-09-04T20:17:07.397226Z"
    }
   },
   "outputs": [
    {
     "data": {
      "text/plain": [
       "#disease-db               3\n",
       "disease-identifier    11897\n",
       "disease-name          11885\n",
       "negation                  0\n",
       "HPO-ID                 9251\n",
       "reference             13481\n",
       "evidence-code             3\n",
       "onset                    12\n",
       "frequencyHPO              5\n",
       "modifier                 23\n",
       "sub-ontology              4\n",
       "alt-names               779\n",
       "curators               1702\n",
       "frequencyRaw            870\n",
       "sex                       5\n",
       "dtype: int64"
      ]
     },
     "execution_count": 232,
     "metadata": {},
     "output_type": "execute_result"
    }
   ],
   "source": [
    "df.nunique()"
   ]
  },
  {
   "cell_type": "code",
   "execution_count": 240,
   "metadata": {
    "ExecuteTime": {
     "end_time": "2020-09-04T20:19:02.387306Z",
     "start_time": "2020-09-04T20:19:01.557269Z"
    }
   },
   "outputs": [
    {
     "data": {
      "text/plain": [
       "#disease-db              1\n",
       "disease-identifier    2682\n",
       "disease-name          2682\n",
       "negation                 0\n",
       "HPO-ID                6842\n",
       "reference             2682\n",
       "evidence-code            1\n",
       "onset                    0\n",
       "frequencyHPO             5\n",
       "modifier                 0\n",
       "sub-ontology             2\n",
       "alt-names                0\n",
       "curators                 1\n",
       "frequencyRaw             1\n",
       "sex                      1\n",
       "dtype: int64"
      ]
     },
     "execution_count": 240,
     "metadata": {},
     "output_type": "execute_result"
    }
   ],
   "source": [
    "dff = df[df['#disease-db'] == 'ORPHA'].groupby('reference').filter(lambda x: len(x) > 12)\n",
    "dff.nunique()"
   ]
  },
  {
   "cell_type": "code",
   "execution_count": 241,
   "metadata": {
    "ExecuteTime": {
     "end_time": "2020-09-04T20:19:04.501105Z",
     "start_time": "2020-09-04T20:19:04.494139Z"
    }
   },
   "outputs": [
    {
     "data": {
      "text/plain": [
       "79535"
      ]
     },
     "execution_count": 241,
     "metadata": {},
     "output_type": "execute_result"
    }
   ],
   "source": [
    "len(dff)"
   ]
  },
  {
   "cell_type": "code",
   "execution_count": 228,
   "metadata": {
    "ExecuteTime": {
     "end_time": "2020-09-04T20:16:24.403309Z",
     "start_time": "2020-09-04T20:16:23.341307Z"
    }
   },
   "outputs": [
    {
     "data": {
      "text/plain": [
       "106074    HP:0040283\n",
       "106075    HP:0040281\n",
       "106076    HP:0040283\n",
       "106077    HP:0040282\n",
       "106078    HP:0040283\n",
       "106079    HP:0040282\n",
       "106080    HP:0040283\n",
       "106081    HP:0040282\n",
       "106082    HP:0040282\n",
       "106083    HP:0040283\n",
       "106084    HP:0040282\n",
       "106085    HP:0040282\n",
       "106086    HP:0040282\n",
       "106087    HP:0040282\n",
       "106088    HP:0040283\n",
       "106089    HP:0040282\n",
       "106090    HP:0040282\n",
       "106091    HP:0040282\n",
       "106092    HP:0040282\n",
       "106093    HP:0040283\n",
       "106094    HP:0040282\n",
       "106095    HP:0040283\n",
       "106096    HP:0040283\n",
       "106097    HP:0040282\n",
       "106098    HP:0040282\n",
       "106099    HP:0040281\n",
       "106100    HP:0040281\n",
       "106101    HP:0040281\n",
       "106102    HP:0040283\n",
       "106103    HP:0040283\n",
       "             ...    \n",
       "195117    HP:0040282\n",
       "195118    HP:0040282\n",
       "195119    HP:0040281\n",
       "195120    HP:0040281\n",
       "195121    HP:0040282\n",
       "195122    HP:0040281\n",
       "195123    HP:0040283\n",
       "195124    HP:0040283\n",
       "195125    HP:0040282\n",
       "195126    HP:0040281\n",
       "195127    HP:0040282\n",
       "195128    HP:0040282\n",
       "195129    HP:0040281\n",
       "195130    HP:0040281\n",
       "195142    HP:0040282\n",
       "195143    HP:0040282\n",
       "195144    HP:0040281\n",
       "195145    HP:0040281\n",
       "195146    HP:0040282\n",
       "195147    HP:0040282\n",
       "195148    HP:0040282\n",
       "195149    HP:0040282\n",
       "195150    HP:0040281\n",
       "195151    HP:0040282\n",
       "195152    HP:0040283\n",
       "195153    HP:0040282\n",
       "195154    HP:0040282\n",
       "195155    HP:0040283\n",
       "195156    HP:0040283\n",
       "195157    HP:0040281\n",
       "Name: frequencyHPO, Length: 76019, dtype: object"
      ]
     },
     "execution_count": 228,
     "metadata": {},
     "output_type": "execute_result"
    }
   ],
   "source": [
    "dff = df[df['#disease-db'] == 'ORPHA'].groupby('reference')['frequencyHPO'].filter(lambda x: len(x=='HP:0040280') > 14)\n",
    "dff"
   ]
  },
  {
   "cell_type": "code",
   "execution_count": 227,
   "metadata": {
    "ExecuteTime": {
     "end_time": "2020-09-04T20:16:05.950921Z",
     "start_time": "2020-09-04T20:16:05.941922Z"
    }
   },
   "outputs": [
    {
     "data": {
      "text/plain": [
       "5"
      ]
     },
     "execution_count": 227,
     "metadata": {},
     "output_type": "execute_result"
    }
   ],
   "source": [
    "dff.nunique()"
   ]
  },
  {
   "cell_type": "code",
   "execution_count": 219,
   "metadata": {
    "ExecuteTime": {
     "end_time": "2020-09-04T20:13:16.160085Z",
     "start_time": "2020-09-04T20:13:16.023087Z"
    }
   },
   "outputs": [
    {
     "ename": "KeyError",
     "evalue": "False",
     "output_type": "error",
     "traceback": [
      "\u001b[1;31m---------------------------------------------------------------------------\u001b[0m",
      "\u001b[1;31mKeyError\u001b[0m                                  Traceback (most recent call last)",
      "\u001b[1;32mC:\\ProgramData\\Anaconda3\\lib\\site-packages\\pandas\\core\\indexes\\base.py\u001b[0m in \u001b[0;36mget_loc\u001b[1;34m(self, key, method, tolerance)\u001b[0m\n\u001b[0;32m   2656\u001b[0m             \u001b[1;32mtry\u001b[0m\u001b[1;33m:\u001b[0m\u001b[1;33m\u001b[0m\u001b[1;33m\u001b[0m\u001b[0m\n\u001b[1;32m-> 2657\u001b[1;33m                 \u001b[1;32mreturn\u001b[0m \u001b[0mself\u001b[0m\u001b[1;33m.\u001b[0m\u001b[0m_engine\u001b[0m\u001b[1;33m.\u001b[0m\u001b[0mget_loc\u001b[0m\u001b[1;33m(\u001b[0m\u001b[0mkey\u001b[0m\u001b[1;33m)\u001b[0m\u001b[1;33m\u001b[0m\u001b[1;33m\u001b[0m\u001b[0m\n\u001b[0m\u001b[0;32m   2658\u001b[0m             \u001b[1;32mexcept\u001b[0m \u001b[0mKeyError\u001b[0m\u001b[1;33m:\u001b[0m\u001b[1;33m\u001b[0m\u001b[1;33m\u001b[0m\u001b[0m\n",
      "\u001b[1;32mpandas/_libs/index.pyx\u001b[0m in \u001b[0;36mpandas._libs.index.IndexEngine.get_loc\u001b[1;34m()\u001b[0m\n",
      "\u001b[1;32mpandas/_libs/index.pyx\u001b[0m in \u001b[0;36mpandas._libs.index.IndexEngine.get_loc\u001b[1;34m()\u001b[0m\n",
      "\u001b[1;32mpandas/_libs/hashtable_class_helper.pxi\u001b[0m in \u001b[0;36mpandas._libs.hashtable.PyObjectHashTable.get_item\u001b[1;34m()\u001b[0m\n",
      "\u001b[1;32mpandas/_libs/hashtable_class_helper.pxi\u001b[0m in \u001b[0;36mpandas._libs.hashtable.PyObjectHashTable.get_item\u001b[1;34m()\u001b[0m\n",
      "\u001b[1;31mKeyError\u001b[0m: False",
      "\nDuring handling of the above exception, another exception occurred:\n",
      "\u001b[1;31mKeyError\u001b[0m                                  Traceback (most recent call last)",
      "\u001b[1;32m<ipython-input-219-eab8fbd84724>\u001b[0m in \u001b[0;36m<module>\u001b[1;34m\u001b[0m\n\u001b[0;32m      1\u001b[0m dff= df[df['#disease-db'] == 'ORPHA'].groupby('reference').filter(\n\u001b[1;32m----> 2\u001b[1;33m     \u001b[1;32mlambda\u001b[0m \u001b[0mx\u001b[0m\u001b[1;33m:\u001b[0m \u001b[0mx\u001b[0m\u001b[1;33m[\u001b[0m\u001b[1;33m[\u001b[0m\u001b[1;34m'frequencyHPO'\u001b[0m\u001b[1;33m]\u001b[0m\u001b[1;33m==\u001b[0m\u001b[1;34m'HP:0040280'\u001b[0m\u001b[1;33m]\u001b[0m\u001b[1;33m.\u001b[0m\u001b[0mcount\u001b[0m\u001b[1;33m(\u001b[0m\u001b[1;33m)\u001b[0m \u001b[1;33m>\u001b[0m \u001b[1;36m10\u001b[0m\u001b[1;33m\u001b[0m\u001b[1;33m\u001b[0m\u001b[0m\n\u001b[0m\u001b[0;32m      3\u001b[0m )\n\u001b[0;32m      4\u001b[0m \u001b[0mdff\u001b[0m\u001b[1;33m[\u001b[0m\u001b[0mdff\u001b[0m\u001b[1;33m[\u001b[0m\u001b[1;34m'#disease-db'\u001b[0m\u001b[1;33m]\u001b[0m \u001b[1;33m==\u001b[0m \u001b[1;34m'ORPHA'\u001b[0m\u001b[1;33m]\u001b[0m\u001b[1;33m.\u001b[0m\u001b[0mgroupby\u001b[0m\u001b[1;33m(\u001b[0m\u001b[1;34m'reference'\u001b[0m\u001b[1;33m)\u001b[0m\u001b[1;33m[\u001b[0m\u001b[1;34m'frequencyHPO'\u001b[0m\u001b[1;33m]\u001b[0m\u001b[1;33m.\u001b[0m\u001b[0mvalue_counts\u001b[0m\u001b[1;33m(\u001b[0m\u001b[1;33m)\u001b[0m\u001b[1;33m\u001b[0m\u001b[1;33m\u001b[0m\u001b[0m\n",
      "\u001b[1;32mC:\\ProgramData\\Anaconda3\\lib\\site-packages\\pandas\\core\\groupby\\generic.py\u001b[0m in \u001b[0;36mfilter\u001b[1;34m(self, func, dropna, *args, **kwargs)\u001b[0m\n\u001b[0;32m    666\u001b[0m             \u001b[0mobject\u001b[0m\u001b[1;33m.\u001b[0m\u001b[0m__setattr__\u001b[0m\u001b[1;33m(\u001b[0m\u001b[0mgroup\u001b[0m\u001b[1;33m,\u001b[0m \u001b[1;34m'name'\u001b[0m\u001b[1;33m,\u001b[0m \u001b[0mname\u001b[0m\u001b[1;33m)\u001b[0m\u001b[1;33m\u001b[0m\u001b[1;33m\u001b[0m\u001b[0m\n\u001b[0;32m    667\u001b[0m \u001b[1;33m\u001b[0m\u001b[0m\n\u001b[1;32m--> 668\u001b[1;33m             \u001b[0mres\u001b[0m \u001b[1;33m=\u001b[0m \u001b[0mfunc\u001b[0m\u001b[1;33m(\u001b[0m\u001b[0mgroup\u001b[0m\u001b[1;33m,\u001b[0m \u001b[1;33m*\u001b[0m\u001b[0margs\u001b[0m\u001b[1;33m,\u001b[0m \u001b[1;33m**\u001b[0m\u001b[0mkwargs\u001b[0m\u001b[1;33m)\u001b[0m\u001b[1;33m\u001b[0m\u001b[1;33m\u001b[0m\u001b[0m\n\u001b[0m\u001b[0;32m    669\u001b[0m \u001b[1;33m\u001b[0m\u001b[0m\n\u001b[0;32m    670\u001b[0m             \u001b[1;32mtry\u001b[0m\u001b[1;33m:\u001b[0m\u001b[1;33m\u001b[0m\u001b[1;33m\u001b[0m\u001b[0m\n",
      "\u001b[1;32m<ipython-input-219-eab8fbd84724>\u001b[0m in \u001b[0;36m<lambda>\u001b[1;34m(x)\u001b[0m\n\u001b[0;32m      1\u001b[0m dff= df[df['#disease-db'] == 'ORPHA'].groupby('reference').filter(\n\u001b[1;32m----> 2\u001b[1;33m     \u001b[1;32mlambda\u001b[0m \u001b[0mx\u001b[0m\u001b[1;33m:\u001b[0m \u001b[0mx\u001b[0m\u001b[1;33m[\u001b[0m\u001b[1;33m[\u001b[0m\u001b[1;34m'frequencyHPO'\u001b[0m\u001b[1;33m]\u001b[0m\u001b[1;33m==\u001b[0m\u001b[1;34m'HP:0040280'\u001b[0m\u001b[1;33m]\u001b[0m\u001b[1;33m.\u001b[0m\u001b[0mcount\u001b[0m\u001b[1;33m(\u001b[0m\u001b[1;33m)\u001b[0m \u001b[1;33m>\u001b[0m \u001b[1;36m10\u001b[0m\u001b[1;33m\u001b[0m\u001b[1;33m\u001b[0m\u001b[0m\n\u001b[0m\u001b[0;32m      3\u001b[0m )\n\u001b[0;32m      4\u001b[0m \u001b[0mdff\u001b[0m\u001b[1;33m[\u001b[0m\u001b[0mdff\u001b[0m\u001b[1;33m[\u001b[0m\u001b[1;34m'#disease-db'\u001b[0m\u001b[1;33m]\u001b[0m \u001b[1;33m==\u001b[0m \u001b[1;34m'ORPHA'\u001b[0m\u001b[1;33m]\u001b[0m\u001b[1;33m.\u001b[0m\u001b[0mgroupby\u001b[0m\u001b[1;33m(\u001b[0m\u001b[1;34m'reference'\u001b[0m\u001b[1;33m)\u001b[0m\u001b[1;33m[\u001b[0m\u001b[1;34m'frequencyHPO'\u001b[0m\u001b[1;33m]\u001b[0m\u001b[1;33m.\u001b[0m\u001b[0mvalue_counts\u001b[0m\u001b[1;33m(\u001b[0m\u001b[1;33m)\u001b[0m\u001b[1;33m\u001b[0m\u001b[1;33m\u001b[0m\u001b[0m\n",
      "\u001b[1;32mC:\\ProgramData\\Anaconda3\\lib\\site-packages\\pandas\\core\\frame.py\u001b[0m in \u001b[0;36m__getitem__\u001b[1;34m(self, key)\u001b[0m\n\u001b[0;32m   2925\u001b[0m             \u001b[1;32mif\u001b[0m \u001b[0mself\u001b[0m\u001b[1;33m.\u001b[0m\u001b[0mcolumns\u001b[0m\u001b[1;33m.\u001b[0m\u001b[0mnlevels\u001b[0m \u001b[1;33m>\u001b[0m \u001b[1;36m1\u001b[0m\u001b[1;33m:\u001b[0m\u001b[1;33m\u001b[0m\u001b[1;33m\u001b[0m\u001b[0m\n\u001b[0;32m   2926\u001b[0m                 \u001b[1;32mreturn\u001b[0m \u001b[0mself\u001b[0m\u001b[1;33m.\u001b[0m\u001b[0m_getitem_multilevel\u001b[0m\u001b[1;33m(\u001b[0m\u001b[0mkey\u001b[0m\u001b[1;33m)\u001b[0m\u001b[1;33m\u001b[0m\u001b[1;33m\u001b[0m\u001b[0m\n\u001b[1;32m-> 2927\u001b[1;33m             \u001b[0mindexer\u001b[0m \u001b[1;33m=\u001b[0m \u001b[0mself\u001b[0m\u001b[1;33m.\u001b[0m\u001b[0mcolumns\u001b[0m\u001b[1;33m.\u001b[0m\u001b[0mget_loc\u001b[0m\u001b[1;33m(\u001b[0m\u001b[0mkey\u001b[0m\u001b[1;33m)\u001b[0m\u001b[1;33m\u001b[0m\u001b[1;33m\u001b[0m\u001b[0m\n\u001b[0m\u001b[0;32m   2928\u001b[0m             \u001b[1;32mif\u001b[0m \u001b[0mis_integer\u001b[0m\u001b[1;33m(\u001b[0m\u001b[0mindexer\u001b[0m\u001b[1;33m)\u001b[0m\u001b[1;33m:\u001b[0m\u001b[1;33m\u001b[0m\u001b[1;33m\u001b[0m\u001b[0m\n\u001b[0;32m   2929\u001b[0m                 \u001b[0mindexer\u001b[0m \u001b[1;33m=\u001b[0m \u001b[1;33m[\u001b[0m\u001b[0mindexer\u001b[0m\u001b[1;33m]\u001b[0m\u001b[1;33m\u001b[0m\u001b[1;33m\u001b[0m\u001b[0m\n",
      "\u001b[1;32mC:\\ProgramData\\Anaconda3\\lib\\site-packages\\pandas\\core\\indexes\\base.py\u001b[0m in \u001b[0;36mget_loc\u001b[1;34m(self, key, method, tolerance)\u001b[0m\n\u001b[0;32m   2657\u001b[0m                 \u001b[1;32mreturn\u001b[0m \u001b[0mself\u001b[0m\u001b[1;33m.\u001b[0m\u001b[0m_engine\u001b[0m\u001b[1;33m.\u001b[0m\u001b[0mget_loc\u001b[0m\u001b[1;33m(\u001b[0m\u001b[0mkey\u001b[0m\u001b[1;33m)\u001b[0m\u001b[1;33m\u001b[0m\u001b[1;33m\u001b[0m\u001b[0m\n\u001b[0;32m   2658\u001b[0m             \u001b[1;32mexcept\u001b[0m \u001b[0mKeyError\u001b[0m\u001b[1;33m:\u001b[0m\u001b[1;33m\u001b[0m\u001b[1;33m\u001b[0m\u001b[0m\n\u001b[1;32m-> 2659\u001b[1;33m                 \u001b[1;32mreturn\u001b[0m \u001b[0mself\u001b[0m\u001b[1;33m.\u001b[0m\u001b[0m_engine\u001b[0m\u001b[1;33m.\u001b[0m\u001b[0mget_loc\u001b[0m\u001b[1;33m(\u001b[0m\u001b[0mself\u001b[0m\u001b[1;33m.\u001b[0m\u001b[0m_maybe_cast_indexer\u001b[0m\u001b[1;33m(\u001b[0m\u001b[0mkey\u001b[0m\u001b[1;33m)\u001b[0m\u001b[1;33m)\u001b[0m\u001b[1;33m\u001b[0m\u001b[1;33m\u001b[0m\u001b[0m\n\u001b[0m\u001b[0;32m   2660\u001b[0m         \u001b[0mindexer\u001b[0m \u001b[1;33m=\u001b[0m \u001b[0mself\u001b[0m\u001b[1;33m.\u001b[0m\u001b[0mget_indexer\u001b[0m\u001b[1;33m(\u001b[0m\u001b[1;33m[\u001b[0m\u001b[0mkey\u001b[0m\u001b[1;33m]\u001b[0m\u001b[1;33m,\u001b[0m \u001b[0mmethod\u001b[0m\u001b[1;33m=\u001b[0m\u001b[0mmethod\u001b[0m\u001b[1;33m,\u001b[0m \u001b[0mtolerance\u001b[0m\u001b[1;33m=\u001b[0m\u001b[0mtolerance\u001b[0m\u001b[1;33m)\u001b[0m\u001b[1;33m\u001b[0m\u001b[1;33m\u001b[0m\u001b[0m\n\u001b[0;32m   2661\u001b[0m         \u001b[1;32mif\u001b[0m \u001b[0mindexer\u001b[0m\u001b[1;33m.\u001b[0m\u001b[0mndim\u001b[0m \u001b[1;33m>\u001b[0m \u001b[1;36m1\u001b[0m \u001b[1;32mor\u001b[0m \u001b[0mindexer\u001b[0m\u001b[1;33m.\u001b[0m\u001b[0msize\u001b[0m \u001b[1;33m>\u001b[0m \u001b[1;36m1\u001b[0m\u001b[1;33m:\u001b[0m\u001b[1;33m\u001b[0m\u001b[1;33m\u001b[0m\u001b[0m\n",
      "\u001b[1;32mpandas/_libs/index.pyx\u001b[0m in \u001b[0;36mpandas._libs.index.IndexEngine.get_loc\u001b[1;34m()\u001b[0m\n",
      "\u001b[1;32mpandas/_libs/index.pyx\u001b[0m in \u001b[0;36mpandas._libs.index.IndexEngine.get_loc\u001b[1;34m()\u001b[0m\n",
      "\u001b[1;32mpandas/_libs/hashtable_class_helper.pxi\u001b[0m in \u001b[0;36mpandas._libs.hashtable.PyObjectHashTable.get_item\u001b[1;34m()\u001b[0m\n",
      "\u001b[1;32mpandas/_libs/hashtable_class_helper.pxi\u001b[0m in \u001b[0;36mpandas._libs.hashtable.PyObjectHashTable.get_item\u001b[1;34m()\u001b[0m\n",
      "\u001b[1;31mKeyError\u001b[0m: False"
     ]
    }
   ],
   "source": [
    "dff= df[df['#disease-db'] == 'ORPHA'].groupby('reference').filter(\n",
    "    lambda x: x['frequencyHPO'].count() > 10\n",
    ")\n",
    "dff[dff['#disease-db'] == 'ORPHA'].groupby('reference')['frequencyHPO'].value_counts()"
   ]
  },
  {
   "cell_type": "code",
   "execution_count": 164,
   "metadata": {
    "ExecuteTime": {
     "end_time": "2020-09-04T19:28:44.028922Z",
     "start_time": "2020-09-04T19:28:43.968924Z"
    }
   },
   "outputs": [
    {
     "data": {
      "text/plain": [
       "<pandas.core.groupby.generic.DataFrameGroupBy object at 0x000001B884F1A438>"
      ]
     },
     "execution_count": 164,
     "metadata": {},
     "output_type": "execute_result"
    }
   ],
   "source": [
    "df[df['#disease-db'] == 'ORPHA'].groupby('reference')"
   ]
  },
  {
   "cell_type": "markdown",
   "metadata": {},
   "source": [
    "## Plot results"
   ]
  },
  {
   "cell_type": "code",
   "execution_count": 4,
   "metadata": {
    "ExecuteTime": {
     "end_time": "2020-09-02T10:03:20.760894Z",
     "start_time": "2020-09-02T10:03:20.094895Z"
    }
   },
   "outputs": [
    {
     "data": {
      "image/png": "[encoded data removed]",
      "text/plain": [
       "<Figure size 432x288 with 1 Axes>"
      ]
     },
     "metadata": {
      "needs_background": "light"
     },
     "output_type": "display_data"
    },
    {
     "data": {
      "image/png": "[encoded data removed]",
      "text/plain": [
       "<Figure size 432x288 with 1 Axes>"
      ]
     },
     "metadata": {
      "needs_background": "light"
     },
     "output_type": "display_data"
    },
    {
     "data": {
      "image/png": "[encoded data removed]",
      "text/plain": [
       "<Figure size 432x288 with 1 Axes>"
      ]
     },
     "metadata": {
      "needs_background": "light"
     },
     "output_type": "display_data"
    }
   ],
   "source": [
    "%matplotlib inline\n",
    "\n",
    "import pickle\n",
    "from sklearn.metrics import roc_curve, auc, roc_auc_score\n",
    "import matplotlib.pyplot as plt\n",
    "\n",
    "\n",
    "def load_object(fn):\n",
    "    with open(fn, 'rb') as file:\n",
    "        return pickle.load(file)\n",
    "\n",
    "# fn = '../_data/patient_similarities/patient_similarities.pkl'\n",
    "fn = '../_data/patients/decipher_patient_sims.pkl'\n",
    "\n",
    "patient_similarities = load_object(fn)\n",
    "# patient_similarities\n",
    "    \n",
    "fl = '../_data/patients/decipher_patients_disease.pkl'\n",
    "\n",
    "patients_disease = load_object(fl)\n",
    "\n",
    "y = []\n",
    "cos_sim = []\n",
    "jaccard_best_avg = []\n",
    "resnik_best_avg = []\n",
    "\n",
    "x = len(patient_similarities)\n",
    "z = x-1\n",
    "\"\"\"  Why is m = x*z / 2 instead of z*z/2  ??????\n",
    "\"\"\"\n",
    "m = x*z/2\n",
    "\n",
    "def plot_results(sim_name, sim_array, m):\n",
    "    if m != (len(sim_array)+1): return\n",
    "    else:\n",
    "        fpr, tpr, thresholds = roc_curve(y, sim_array)\n",
    "        roc_auc = roc_auc_score(y, sim_array)\n",
    "\n",
    "        plt.figure()\n",
    "        lw = 2\n",
    "        plt.plot(fpr, tpr, color='darkorange',\n",
    "                 lw=lw, label='ROC curve (area = %0.2f)' % roc_auc)\n",
    "        plt.plot([0, 1], [0, 1], color='navy', lw=lw, linestyle='--')\n",
    "        plt.xlim([0.0, 1.0])\n",
    "        plt.ylim([0.0, 1.05])\n",
    "        plt.xlabel('False Positive Rate')\n",
    "        plt.ylabel('True Positive Rate')\n",
    "        plt.title('Receiver operating characteristic for {}'.format(sim))\n",
    "        plt.legend(loc=\"lower right\")\n",
    "        plt.show()\n",
    "\n",
    "def append_similarity_score(score_array, score_dict):\n",
    "    for patient_compared in score_dict:\n",
    "        score_array.append(score_dict[patient_compared])\n",
    "    return score_array\n",
    "\n",
    "for patient in patient_similarities:\n",
    "    for sim in patient_similarities[patient]:\n",
    "        if sim =='cos_sim':\n",
    "            for patient_compared in patient_similarities[patient][sim]:\n",
    "                cos_sim.append(patient_similarities[patient][sim][patient_compared])            \n",
    "                if patients_disease[patient_compared] == patients_disease[patient]:\n",
    "                    y.append(1)\n",
    "                else:\n",
    "                    y.append(0)\n",
    "            plot_results(sim, cos_sim, m)\n",
    "        if sim == 'jaccard_best_avg':\n",
    "            jaccard_best_avg = append_similarity_score(jaccard_best_avg, patient_similarities[patient][sim])\n",
    "            plot_results(sim, jaccard_best_avg, m)\n",
    "        if sim == 'resnik_best_avg':\n",
    "            resnik_best_avg = append_similarity_score(resnik_best_avg, patient_similarities[patient][sim]) \n",
    "            plot_results(sim, resnik_best_avg, m)"
   ]
  }
 ],
 "metadata": {
  "kernelspec": {
   "display_name": "Python 3",
   "language": "python",
   "name": "python3"
  },
  "language_info": {
   "codemirror_mode": {
    "name": "ipython",
    "version": 3
   },
   "file_extension": ".py",
   "mimetype": "text/x-python",
   "name": "python",
   "nbconvert_exporter": "python",
   "pygments_lexer": "ipython3",
   "version": "3.7.3"
  },
  "toc": {
   "base_numbering": 1,
   "nav_menu": {},
   "number_sections": true,
   "sideBar": true,
   "skip_h1_title": false,
   "title_cell": "Table of Contents",
   "title_sidebar": "Contents",
   "toc_cell": false,
   "toc_position": {},
   "toc_section_display": true,
   "toc_window_display": false
  }
 },
 "nbformat": 4,
 "nbformat_minor": 2
}
